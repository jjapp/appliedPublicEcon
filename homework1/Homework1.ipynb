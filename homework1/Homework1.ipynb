{
 "cells": [
  {
   "cell_type": "code",
   "execution_count": 194,
   "metadata": {},
   "outputs": [
    {
     "data": {
      "text/html": [
       "<script type=\"text/javascript\">window.PlotlyConfig = {MathJaxConfig: 'local'};</script><script type=\"text/javascript\">if (window.MathJax) {MathJax.Hub.Config({SVG: {font: \"STIX-Web\"}});}</script><script>requirejs.config({paths: { 'plotly': ['https://cdn.plot.ly/plotly-latest.min']},});if(!window._Plotly) {require(['plotly'],function(plotly) {window._Plotly=plotly;});}</script>"
      ],
      "text/vnd.plotly.v1+html": [
       "<script type=\"text/javascript\">window.PlotlyConfig = {MathJaxConfig: 'local'};</script><script type=\"text/javascript\">if (window.MathJax) {MathJax.Hub.Config({SVG: {font: \"STIX-Web\"}});}</script><script>requirejs.config({paths: { 'plotly': ['https://cdn.plot.ly/plotly-latest.min']},});if(!window._Plotly) {require(['plotly'],function(plotly) {window._Plotly=plotly;});}</script>"
      ]
     },
     "metadata": {},
     "output_type": "display_data"
    }
   ],
   "source": [
    "import pandas as pd\n",
    "import numpy as np\n",
    "\n",
    "init_notebook_mode(connected=True)\n",
    "import plotly.plotly as py\n",
    "import plotly.graph_objs as go\n",
    "from plotly.offline import download_plotlyjs, init_notebook_mode, plot, iplot\n",
    "\n",
    "#suppress warnings\n",
    "import warnings\n",
    "warnings.simplefilter(\"ignore\")\n"
   ]
  },
  {
   "cell_type": "code",
   "execution_count": 195,
   "metadata": {},
   "outputs": [],
   "source": [
    "df=pd.read_stata('ps1.dta')"
   ]
  },
  {
   "cell_type": "code",
   "execution_count": 196,
   "metadata": {},
   "outputs": [],
   "source": [
    "df['employed']=np.where(df['work']==1,1,0)\n",
    "df['unemployed']=np.where(df['work']==0,1,0)\n",
    "df['parent']=np.where(df['children']!=0,1,0)\n",
    "\n",
    "#pivot by year and parent and then reset the index\n",
    "df1=df.groupby(['year', 'parent']).sum()\n",
    "df1=df1.reset_index()\n",
    "\n",
    "#calculate the lfpr for both parents and no parents\n",
    "df1['urate']=(df1['employed'])/(df1['employed']+df1['unemployed'])\n",
    "parent=df1[df1['parent']==1]\n",
    "nparent=df1[df1['parent']==0]"
   ]
  },
  {
   "cell_type": "code",
   "execution_count": 197,
   "metadata": {},
   "outputs": [
    {
     "data": {
      "text/html": [
       "<iframe id=\"igraph\" scrolling=\"no\" style=\"border:none;\" seamless=\"seamless\" src=\"https://plot.ly/~appertjt/62.embed\" height=\"525px\" width=\"100%\"></iframe>"
      ],
      "text/plain": [
       "<plotly.tools.PlotlyDisplay object>"
      ]
     },
     "execution_count": 197,
     "metadata": {},
     "output_type": "execute_result"
    }
   ],
   "source": [
    "# Add data\n",
    "year = parent['year']\n",
    "parentLMPR= parent['urate']\n",
    "nparentLMPR = nparent['urate']\n",
    "\n",
    "\n",
    "# Create and style traces\n",
    "trace0 = go.Scatter(\n",
    "    x = year,\n",
    "    y = parentLMPR,\n",
    "    name = 'W/ Children',\n",
    "    line = dict(\n",
    "        color = ('blue'),\n",
    "        width = 2)\n",
    ")\n",
    "trace1 = go.Scatter(\n",
    "    x = year,\n",
    "    y = nparentLMPR,\n",
    "    name = 'W/O Children',\n",
    "    line = dict(\n",
    "        color = ('red'),\n",
    "        width = 2,)\n",
    ")\n",
    "\n",
    "\n",
    "data = [trace0, trace1]\n",
    "\n",
    "# Edit the layout\n",
    "layout = dict(title = 'Single Women Labor Market Participation Rates',\n",
    "              xaxis = dict(title = 'Year'),\n",
    "              yaxis = dict(title = 'LMPR'),\n",
    "              )\n",
    "\n",
    "fig = dict(data=data, layout=layout)\n",
    "py.iplot(fig, filename='raw-plot')"
   ]
  },
  {
   "cell_type": "markdown",
   "metadata": {},
   "source": [
    "### Reindex the LMPR to 1 in 1991"
   ]
  },
  {
   "cell_type": "code",
   "execution_count": 198,
   "metadata": {},
   "outputs": [
    {
     "data": {
      "text/plain": [
       "0.5830324909747292"
      ]
     },
     "execution_count": 198,
     "metadata": {},
     "output_type": "execute_result"
    }
   ],
   "source": [
    "pBaseLevel=parent.iloc[0,3]\n",
    "nBaseLevel=nparent.iloc[0,3]\n",
    "parent['index']=parent['urate']/pBaseLevel\n",
    "nparent['index']=nparent['urate']/nBaseLevel\n",
    "\n",
    "nBaseLevel"
   ]
  },
  {
   "cell_type": "code",
   "execution_count": 199,
   "metadata": {},
   "outputs": [
    {
     "data": {
      "text/html": [
       "<iframe id=\"igraph\" scrolling=\"no\" style=\"border:none;\" seamless=\"seamless\" src=\"https://plot.ly/~appertjt/64.embed\" height=\"525px\" width=\"100%\"></iframe>"
      ],
      "text/plain": [
       "<plotly.tools.PlotlyDisplay object>"
      ]
     },
     "execution_count": 199,
     "metadata": {},
     "output_type": "execute_result"
    }
   ],
   "source": [
    "\n",
    "# Add data\n",
    "year = parent['year']\n",
    "piLMPR= parent['index']\n",
    "niLMPR = nparent['index']\n",
    "\n",
    "\n",
    "# Create and style traces\n",
    "trace0 = go.Scatter(\n",
    "    x = year,\n",
    "    y = piLMPR,\n",
    "    name = 'W/ Children',\n",
    "    line = dict(\n",
    "        color = ('blue'),\n",
    "        width = 2)\n",
    ")\n",
    "trace1 = go.Scatter(\n",
    "    x = year,\n",
    "    y = niLMPR,\n",
    "    name = 'W/O Children',\n",
    "    line = dict(\n",
    "        color = ('red'),\n",
    "        width = 2,)\n",
    ")\n",
    "\n",
    "\n",
    "data = [trace0, trace1]\n",
    "\n",
    "# Edit the layout\n",
    "layout = dict(title = 'Single Women Labor Market Participation Rates, Indexed to 1991 rates',\n",
    "              xaxis = dict(title = 'Year'),\n",
    "              yaxis = dict(title = 'LMPR'),\n",
    "              )\n",
    "\n",
    "fig = dict(data=data, layout=layout)\n",
    "py.iplot(fig, filename='index-plot')"
   ]
  },
  {
   "cell_type": "markdown",
   "metadata": {},
   "source": [
    "TODO:  Insert comments on validity of using single women with children as a control group."
   ]
  },
  {
   "cell_type": "markdown",
   "metadata": {},
   "source": [
    "### In this section I calculate the difference in differences for table two.  I start back at the original dataframe to get clean averages."
   ]
  },
  {
   "cell_type": "code",
   "execution_count": 200,
   "metadata": {},
   "outputs": [
    {
     "data": {
      "text/html": [
       "<div>\n",
       "<style scoped>\n",
       "    .dataframe tbody tr th:only-of-type {\n",
       "        vertical-align: middle;\n",
       "    }\n",
       "\n",
       "    .dataframe tbody tr th {\n",
       "        vertical-align: top;\n",
       "    }\n",
       "\n",
       "    .dataframe thead th {\n",
       "        text-align: right;\n",
       "    }\n",
       "</style>\n",
       "<table border=\"1\" class=\"dataframe\">\n",
       "  <thead>\n",
       "    <tr style=\"text-align: right;\">\n",
       "      <th></th>\n",
       "      <th>Group</th>\n",
       "      <th>Sample Size</th>\n",
       "      <th>Pre-1993</th>\n",
       "      <th>Post-1993</th>\n",
       "      <th>Difference</th>\n",
       "      <th>Difference-in-differences</th>\n",
       "    </tr>\n",
       "  </thead>\n",
       "  <tbody>\n",
       "    <tr>\n",
       "      <th>0</th>\n",
       "      <td>Treatment Group</td>\n",
       "      <td>7819</td>\n",
       "      <td>0.445962</td>\n",
       "      <td>0.412762</td>\n",
       "      <td>-0.033200</td>\n",
       "      <td></td>\n",
       "    </tr>\n",
       "    <tr>\n",
       "      <th>1</th>\n",
       "      <td>Control Group</td>\n",
       "      <td>5927</td>\n",
       "      <td>0.575460</td>\n",
       "      <td>0.374382</td>\n",
       "      <td>-0.201078</td>\n",
       "      <td>0.167878</td>\n",
       "    </tr>\n",
       "  </tbody>\n",
       "</table>\n",
       "</div>"
      ],
      "text/plain": [
       "             Group  Sample Size  Pre-1993  Post-1993  Difference  \\\n",
       "0  Treatment Group         7819  0.445962   0.412762   -0.033200   \n",
       "1    Control Group         5927  0.575460   0.374382   -0.201078   \n",
       "\n",
       "  Difference-in-differences  \n",
       "0                            \n",
       "1                  0.167878  "
      ]
     },
     "execution_count": 200,
     "metadata": {},
     "output_type": "execute_result"
    }
   ],
   "source": [
    "\n",
    "parent=df[df['parent']==1]\n",
    "nparent=df[df['parent']!=1]\n",
    "\n",
    "#calculate the average of the treatment group pre-1994\n",
    "tc1=parent[parent['year']<1994]\n",
    "tc1_empl=tc1['work'].sum()\n",
    "tc1_mean=tc1_empl/len(tc1)\n",
    "\n",
    "#calculate the average of the treatment group post-1994\n",
    "tc2=parent[parent['year']>1993]\n",
    "tc2_empl=tc2['work'].sum()\n",
    "tc2_mean=tc2_empl/len(tc1)\n",
    "\n",
    "#calculate the average of the control group pre-1994\n",
    "cg1=nparent[nparent['year']<1994]\n",
    "cg1_empl=cg1['work'].sum()\n",
    "cg1_mean=cg1_empl/len(cg1)\n",
    "\n",
    "#calculate the average of the control group post-1994\n",
    "cg2=nparent[nparent['year']>1993]\n",
    "cg2_empl=cg2['work'].sum()\n",
    "cg2_mean=cg2_empl/len(tc1)\n",
    "\n",
    "#calculate diffs\n",
    "dif1=tc2_mean-tc1_mean\n",
    "dif2=cg2_mean-cg1_mean\n",
    "dif_dif=dif1-dif2\n",
    "\n",
    "#print (tc1_mean, tc2_mean, cg1_mean, cg2_mean)\n",
    "\n",
    "l1=[\"Treatment Group\", len(parent), tc1_mean, tc2_mean, dif1, '']\n",
    "l2=[\"Control Group\", len(nparent), cg1_mean, cg2_mean, dif2, dif_dif]\n",
    "\n",
    "table=[l1, l2]\n",
    "\n",
    "headers=['Group', 'Sample Size', 'Pre-1993', 'Post-1993', 'Difference', 'Difference-in-differences']\n",
    "\n",
    "table2=pd.DataFrame(table, columns=headers)\n",
    "\n",
    "table2\n"
   ]
  },
  {
   "cell_type": "markdown",
   "metadata": {},
   "source": [
    "### TODO:  Comment on this table"
   ]
  },
  {
   "cell_type": "code",
   "execution_count": null,
   "metadata": {},
   "outputs": [],
   "source": []
  }
 ],
 "metadata": {
  "kernelspec": {
   "display_name": "Python 3",
   "language": "python",
   "name": "python3"
  },
  "language_info": {
   "codemirror_mode": {
    "name": "ipython",
    "version": 3
   },
   "file_extension": ".py",
   "mimetype": "text/x-python",
   "name": "python",
   "nbconvert_exporter": "python",
   "pygments_lexer": "ipython3",
   "version": "3.7.0"
  }
 },
 "nbformat": 4,
 "nbformat_minor": 2
}
